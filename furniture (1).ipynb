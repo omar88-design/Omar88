{
 "cells": [
  {
   "cell_type": "code",
   "execution_count": 5,
   "id": "c7d0c881-7d02-4162-8c46-7f0ef291a09a",
   "metadata": {},
   "outputs": [],
   "source": [
    "import numpy as np\n",
    "import pandas as pd\n",
    "import matplotlib.pyplot as plt\n",
    "import seaborn as sns"
   ]
  },
  {
   "cell_type": "code",
   "execution_count": 6,
   "id": "30633c4f-4948-4dc2-9dcd-ac0637eaef87",
   "metadata": {},
   "outputs": [
    {
     "data": {
      "text/html": [
       "<div>\n",
       "<style scoped>\n",
       "    .dataframe tbody tr th:only-of-type {\n",
       "        vertical-align: middle;\n",
       "    }\n",
       "\n",
       "    .dataframe tbody tr th {\n",
       "        vertical-align: top;\n",
       "    }\n",
       "\n",
       "    .dataframe thead th {\n",
       "        text-align: right;\n",
       "    }\n",
       "</style>\n",
       "<table border=\"1\" class=\"dataframe\">\n",
       "  <thead>\n",
       "    <tr style=\"text-align: right;\">\n",
       "      <th></th>\n",
       "      <th>furniture</th>\n",
       "      <th>type</th>\n",
       "      <th>url</th>\n",
       "      <th>rate</th>\n",
       "      <th>delivery</th>\n",
       "      <th>sale</th>\n",
       "      <th>price</th>\n",
       "    </tr>\n",
       "  </thead>\n",
       "  <tbody>\n",
       "    <tr>\n",
       "      <th>0</th>\n",
       "      <td>Bed side table with storage shelf</td>\n",
       "      <td>Home Decor Center</td>\n",
       "      <td>https://www.jumia.com.eg//ar/home-decor-center...</td>\n",
       "      <td>3.3</td>\n",
       "      <td>172.14</td>\n",
       "      <td>72%</td>\n",
       "      <td>2500.0</td>\n",
       "    </tr>\n",
       "    <tr>\n",
       "      <th>1</th>\n",
       "      <td>Bed side table with storage shelf</td>\n",
       "      <td>Modern Home</td>\n",
       "      <td>https://www.jumia.com.eg//ar/modern-home-bedsi...</td>\n",
       "      <td>0.0</td>\n",
       "      <td>172.14</td>\n",
       "      <td>54%</td>\n",
       "      <td>1200.0</td>\n",
       "    </tr>\n",
       "    <tr>\n",
       "      <th>2</th>\n",
       "      <td>Modern Zigzag TV Table</td>\n",
       "      <td>Modern Home</td>\n",
       "      <td>https://www.jumia.com.eg//ar/generic-zigzag-tv...</td>\n",
       "      <td>0.0</td>\n",
       "      <td>172.14</td>\n",
       "      <td>18%</td>\n",
       "      <td>1099.0</td>\n",
       "    </tr>\n",
       "    <tr>\n",
       "      <th>3</th>\n",
       "      <td>Bedside table with storage shelf</td>\n",
       "      <td>Modern Home</td>\n",
       "      <td>https://www.jumia.com.eg//ar/modern-home-bedsi...</td>\n",
       "      <td>0.0</td>\n",
       "      <td>172.14</td>\n",
       "      <td>58%</td>\n",
       "      <td>1200.0</td>\n",
       "    </tr>\n",
       "    <tr>\n",
       "      <th>4</th>\n",
       "      <td>Wall Mounted TV Unit with Cabinet TV Stand Uni...</td>\n",
       "      <td>Modern Home</td>\n",
       "      <td>https://www.jumia.com.eg//ar/modern-home-wall-...</td>\n",
       "      <td>5.0</td>\n",
       "      <td>52.44</td>\n",
       "      <td>54%</td>\n",
       "      <td>1400.0</td>\n",
       "    </tr>\n",
       "    <tr>\n",
       "      <th>...</th>\n",
       "      <td>...</td>\n",
       "      <td>...</td>\n",
       "      <td>...</td>\n",
       "      <td>...</td>\n",
       "      <td>...</td>\n",
       "      <td>...</td>\n",
       "      <td>...</td>\n",
       "    </tr>\n",
       "    <tr>\n",
       "      <th>1995</th>\n",
       "      <td>Casio Standard Analogue Ladys Standard Analog ...</td>\n",
       "      <td>Casio Standard Analogue Ladys Standard Analog ...</td>\n",
       "      <td>https://www.jumia.com.eg//ar/casio-standard-an...</td>\n",
       "      <td>0.0</td>\n",
       "      <td>656.28</td>\n",
       "      <td>0%</td>\n",
       "      <td>1632.0</td>\n",
       "    </tr>\n",
       "    <tr>\n",
       "      <th>1996</th>\n",
       "      <td>Coffee table + side table</td>\n",
       "      <td>Hub Furniture</td>\n",
       "      <td>https://www.jumia.com.eg//ar/hub-furniture-ae-...</td>\n",
       "      <td>0.0</td>\n",
       "      <td>172.14</td>\n",
       "      <td>0%</td>\n",
       "      <td>11450.0</td>\n",
       "    </tr>\n",
       "    <tr>\n",
       "      <th>1997</th>\n",
       "      <td>Ben Togo Baby Bed</td>\n",
       "      <td>Bean GO</td>\n",
       "      <td>https://www.jumia.com.eg//ar/bean2go-newborn-b...</td>\n",
       "      <td>0.0</td>\n",
       "      <td>52.44</td>\n",
       "      <td>0%</td>\n",
       "      <td>550.0</td>\n",
       "    </tr>\n",
       "    <tr>\n",
       "      <th>1998</th>\n",
       "      <td>Cloud memory foam mattress (medical)</td>\n",
       "      <td>CIREM</td>\n",
       "      <td>https://www.jumia.com.eg//ar/cirem-cloud-memor...</td>\n",
       "      <td>0.0</td>\n",
       "      <td>172.14</td>\n",
       "      <td>9%</td>\n",
       "      <td>8495.0</td>\n",
       "    </tr>\n",
       "    <tr>\n",
       "      <th>1999</th>\n",
       "      <td>Comfy memory foam mattress</td>\n",
       "      <td>CIREM</td>\n",
       "      <td>https://www.jumia.com.eg//ar/cirem-comfy-medic...</td>\n",
       "      <td>0.0</td>\n",
       "      <td>172.14</td>\n",
       "      <td>10%</td>\n",
       "      <td>10775.0</td>\n",
       "    </tr>\n",
       "  </tbody>\n",
       "</table>\n",
       "<p>2000 rows × 7 columns</p>\n",
       "</div>"
      ],
      "text/plain": [
       "                                              furniture  \\\n",
       "0                    Bed side table with storage shelf    \n",
       "1                    Bed side table with storage shelf    \n",
       "2                               Modern Zigzag TV Table    \n",
       "3                     Bedside table with storage shelf    \n",
       "4     Wall Mounted TV Unit with Cabinet TV Stand Uni...   \n",
       "...                                                 ...   \n",
       "1995  Casio Standard Analogue Ladys Standard Analog ...   \n",
       "1996                          Coffee table + side table   \n",
       "1997                                 Ben Togo Baby Bed    \n",
       "1998               Cloud memory foam mattress (medical)   \n",
       "1999                         Comfy memory foam mattress   \n",
       "\n",
       "                                                   type  \\\n",
       "0                                     Home Decor Center   \n",
       "1                                           Modern Home   \n",
       "2                                           Modern Home   \n",
       "3                                           Modern Home   \n",
       "4                                           Modern Home   \n",
       "...                                                 ...   \n",
       "1995  Casio Standard Analogue Ladys Standard Analog ...   \n",
       "1996                                      Hub Furniture   \n",
       "1997                                            Bean GO   \n",
       "1998                                              CIREM   \n",
       "1999                                              CIREM   \n",
       "\n",
       "                                                    url  rate  delivery sale  \\\n",
       "0     https://www.jumia.com.eg//ar/home-decor-center...   3.3    172.14  72%   \n",
       "1     https://www.jumia.com.eg//ar/modern-home-bedsi...   0.0    172.14  54%   \n",
       "2     https://www.jumia.com.eg//ar/generic-zigzag-tv...   0.0    172.14  18%   \n",
       "3     https://www.jumia.com.eg//ar/modern-home-bedsi...   0.0    172.14  58%   \n",
       "4     https://www.jumia.com.eg//ar/modern-home-wall-...   5.0     52.44  54%   \n",
       "...                                                 ...   ...       ...  ...   \n",
       "1995  https://www.jumia.com.eg//ar/casio-standard-an...   0.0    656.28   0%   \n",
       "1996  https://www.jumia.com.eg//ar/hub-furniture-ae-...   0.0    172.14   0%   \n",
       "1997  https://www.jumia.com.eg//ar/bean2go-newborn-b...   0.0     52.44   0%   \n",
       "1998  https://www.jumia.com.eg//ar/cirem-cloud-memor...   0.0    172.14   9%   \n",
       "1999  https://www.jumia.com.eg//ar/cirem-comfy-medic...   0.0    172.14  10%   \n",
       "\n",
       "        price  \n",
       "0      2500.0  \n",
       "1      1200.0  \n",
       "2      1099.0  \n",
       "3      1200.0  \n",
       "4      1400.0  \n",
       "...       ...  \n",
       "1995   1632.0  \n",
       "1996  11450.0  \n",
       "1997    550.0  \n",
       "1998   8495.0  \n",
       "1999  10775.0  \n",
       "\n",
       "[2000 rows x 7 columns]"
      ]
     },
     "execution_count": 6,
     "metadata": {},
     "output_type": "execute_result"
    }
   ],
   "source": [
    "df=pd.read_csv(\"Furniture Price Prediction.csv\")\n",
    "df"
   ]
  },
  {
   "cell_type": "code",
   "execution_count": 7,
   "id": "9f94e75b-de73-4b33-86b7-4e5dbdcd1bb7",
   "metadata": {},
   "outputs": [
    {
     "name": "stdout",
     "output_type": "stream",
     "text": [
      "<class 'pandas.core.frame.DataFrame'>\n",
      "RangeIndex: 2000 entries, 0 to 1999\n",
      "Data columns (total 7 columns):\n",
      " #   Column     Non-Null Count  Dtype  \n",
      "---  ------     --------------  -----  \n",
      " 0   furniture  2000 non-null   object \n",
      " 1   type       2000 non-null   object \n",
      " 2   url        2000 non-null   object \n",
      " 3   rate       2000 non-null   float64\n",
      " 4   delivery   2000 non-null   float64\n",
      " 5   sale       2000 non-null   object \n",
      " 6   price      1961 non-null   float64\n",
      "dtypes: float64(3), object(4)\n",
      "memory usage: 109.5+ KB\n"
     ]
    }
   ],
   "source": [
    "df.info()"
   ]
  },
  {
   "cell_type": "code",
   "execution_count": 8,
   "id": "986db7c3-b5e6-49fa-9c15-8ab696ede011",
   "metadata": {},
   "outputs": [
    {
     "data": {
      "text/html": [
       "<div>\n",
       "<style scoped>\n",
       "    .dataframe tbody tr th:only-of-type {\n",
       "        vertical-align: middle;\n",
       "    }\n",
       "\n",
       "    .dataframe tbody tr th {\n",
       "        vertical-align: top;\n",
       "    }\n",
       "\n",
       "    .dataframe thead th {\n",
       "        text-align: right;\n",
       "    }\n",
       "</style>\n",
       "<table border=\"1\" class=\"dataframe\">\n",
       "  <thead>\n",
       "    <tr style=\"text-align: right;\">\n",
       "      <th></th>\n",
       "      <th>rate</th>\n",
       "      <th>delivery</th>\n",
       "      <th>price</th>\n",
       "    </tr>\n",
       "  </thead>\n",
       "  <tbody>\n",
       "    <tr>\n",
       "      <th>count</th>\n",
       "      <td>2000.00</td>\n",
       "      <td>2000.00</td>\n",
       "      <td>1961.00</td>\n",
       "    </tr>\n",
       "    <tr>\n",
       "      <th>mean</th>\n",
       "      <td>0.74</td>\n",
       "      <td>142.67</td>\n",
       "      <td>2910.42</td>\n",
       "    </tr>\n",
       "    <tr>\n",
       "      <th>std</th>\n",
       "      <td>1.61</td>\n",
       "      <td>139.34</td>\n",
       "      <td>4002.92</td>\n",
       "    </tr>\n",
       "    <tr>\n",
       "      <th>min</th>\n",
       "      <td>0.00</td>\n",
       "      <td>10.83</td>\n",
       "      <td>13.40</td>\n",
       "    </tr>\n",
       "    <tr>\n",
       "      <th>25%</th>\n",
       "      <td>0.00</td>\n",
       "      <td>52.44</td>\n",
       "      <td>740.00</td>\n",
       "    </tr>\n",
       "    <tr>\n",
       "      <th>50%</th>\n",
       "      <td>0.00</td>\n",
       "      <td>172.14</td>\n",
       "      <td>1900.00</td>\n",
       "    </tr>\n",
       "    <tr>\n",
       "      <th>75%</th>\n",
       "      <td>0.00</td>\n",
       "      <td>172.14</td>\n",
       "      <td>4000.00</td>\n",
       "    </tr>\n",
       "    <tr>\n",
       "      <th>max</th>\n",
       "      <td>5.00</td>\n",
       "      <td>2409.90</td>\n",
       "      <td>55000.00</td>\n",
       "    </tr>\n",
       "  </tbody>\n",
       "</table>\n",
       "</div>"
      ],
      "text/plain": [
       "          rate  delivery     price\n",
       "count  2000.00   2000.00   1961.00\n",
       "mean      0.74    142.67   2910.42\n",
       "std       1.61    139.34   4002.92\n",
       "min       0.00     10.83     13.40\n",
       "25%       0.00     52.44    740.00\n",
       "50%       0.00    172.14   1900.00\n",
       "75%       0.00    172.14   4000.00\n",
       "max       5.00   2409.90  55000.00"
      ]
     },
     "execution_count": 8,
     "metadata": {},
     "output_type": "execute_result"
    }
   ],
   "source": [
    "df.describe().round(2)"
   ]
  },
  {
   "cell_type": "code",
   "execution_count": 9,
   "id": "21295479-d730-4f64-99da-885718147da5",
   "metadata": {},
   "outputs": [
    {
     "name": "stdout",
     "output_type": "stream",
     "text": [
      "The max price 55000.0\n"
     ]
    }
   ],
   "source": [
    "print('The max price',round(df['price'].max(),2))"
   ]
  },
  {
   "cell_type": "code",
   "execution_count": 10,
   "id": "992defff-b405-4ad7-ac2f-2c7ff62c2a6f",
   "metadata": {},
   "outputs": [
    {
     "name": "stdout",
     "output_type": "stream",
     "text": [
      "The min price 13.4\n"
     ]
    }
   ],
   "source": [
    "print('The min price',round(df['price'].min(),2))"
   ]
  },
  {
   "cell_type": "code",
   "execution_count": 11,
   "id": "04c9409d-87a2-4dd4-8f8a-d8113cce6f76",
   "metadata": {},
   "outputs": [
    {
     "name": "stdout",
     "output_type": "stream",
     "text": [
      "The mean price 2910.42\n"
     ]
    }
   ],
   "source": [
    "print ('The mean price',round(df['price'].mean(),2))\n"
   ]
  },
  {
   "cell_type": "code",
   "execution_count": 12,
   "id": "295251a6-869f-4040-bb8b-444049bac0a2",
   "metadata": {},
   "outputs": [
    {
     "data": {
      "text/plain": [
       "array(['Bed side table with storage shelf ', 'Modern Zigzag TV Table ',\n",
       "       'Bedside table with storage shelf ', ...,\n",
       "       'Sofa Chair Bean Bag Flocking PVC Garden Lounge',\n",
       "       \"Casio Standard Analogue Ladys Standard Analog Women's LTP-V005G-9A\",\n",
       "       'Coffee table + side table'], dtype=object)"
      ]
     },
     "execution_count": 12,
     "metadata": {},
     "output_type": "execute_result"
    }
   ],
   "source": [
    "df['furniture'].unique()"
   ]
  },
  {
   "cell_type": "code",
   "execution_count": 13,
   "id": "addd71ca-ef62-440b-bcb6-6b659d7b7fea",
   "metadata": {},
   "outputs": [
    {
     "data": {
      "text/plain": [
       "furniture\n",
       "Modern capton bed, cm wood                          29\n",
       "cm TV table                                         27\n",
       "Corner bed                                          22\n",
       "Sofa bed                                            21\n",
       "Mora mattress, ten years guarantee, size is high    19\n",
       "                                                    ..\n",
       "Living room                                          1\n",
       "Home Gallery Wall Shelf x x White                    1\n",
       "New Primo Sofa Bed                                   1\n",
       "In Home Bed Sofa - 120 *190 Cm -  Teal               1\n",
       "Coffee table + side table                            1\n",
       "Name: count, Length: 1224, dtype: int64"
      ]
     },
     "execution_count": 13,
     "metadata": {},
     "output_type": "execute_result"
    }
   ],
   "source": [
    "df['furniture'].value_counts()"
   ]
  },
  {
   "cell_type": "code",
   "execution_count": 14,
   "id": "1c1d251a-62a5-458e-a357-ecf399c06b0a",
   "metadata": {},
   "outputs": [
    {
     "data": {
      "text/plain": [
       "type\n",
       "Modern Home                                                           678\n",
       "Rango                                                                  81\n",
       "Marfy Touch                                                            57\n",
       "General                                                                51\n",
       "Artistico                                                              44\n",
       "                                                                     ... \n",
       "Modern Home R        PCS                                                1\n",
       "Epoch Sylvanian Families Ka     Shining room light                      1\n",
       "Sprayer model coloring  art drawing                                     1\n",
       "Rango Romantic Chair   Black                                            1\n",
       "Casio Standard Analogue Ladys Standard Analog Women s LTP V   G  A      1\n",
       "Name: count, Length: 592, dtype: int64"
      ]
     },
     "execution_count": 14,
     "metadata": {},
     "output_type": "execute_result"
    }
   ],
   "source": [
    "df['type'].value_counts()"
   ]
  },
  {
   "cell_type": "code",
   "execution_count": 15,
   "id": "af0ca223-4881-4b55-b126-68153f577556",
   "metadata": {},
   "outputs": [
    {
     "data": {
      "text/plain": [
       "price\n",
       "3000.0     77\n",
       "4000.0     68\n",
       "3500.0     59\n",
       "4500.0     49\n",
       "2000.0     45\n",
       "           ..\n",
       "5125.0      1\n",
       "4482.0      1\n",
       "1762.0      1\n",
       "14199.0     1\n",
       "10775.0     1\n",
       "Name: count, Length: 693, dtype: int64"
      ]
     },
     "execution_count": 15,
     "metadata": {},
     "output_type": "execute_result"
    }
   ],
   "source": [
    "df['price'].value_counts()"
   ]
  },
  {
   "cell_type": "code",
   "execution_count": 16,
   "id": "4df0bc65-2a88-4758-9ba4-e900720f48d6",
   "metadata": {},
   "outputs": [
    {
     "data": {
      "text/plain": [
       "75"
      ]
     },
     "execution_count": 16,
     "metadata": {},
     "output_type": "execute_result"
    }
   ],
   "source": [
    "df.duplicated().sum()"
   ]
  },
  {
   "cell_type": "code",
   "execution_count": 17,
   "id": "398fc775-800d-45c0-b807-523bb83d8ffa",
   "metadata": {},
   "outputs": [],
   "source": [
    "df.drop_duplicates(inplace=True)"
   ]
  },
  {
   "cell_type": "code",
   "execution_count": 18,
   "id": "1981ecc1-651c-42c2-8175-4b79bbef827c",
   "metadata": {},
   "outputs": [
    {
     "data": {
      "text/plain": [
       "0"
      ]
     },
     "execution_count": 18,
     "metadata": {},
     "output_type": "execute_result"
    }
   ],
   "source": [
    "df.duplicated().sum()"
   ]
  },
  {
   "cell_type": "code",
   "execution_count": 19,
   "id": "69edd1f2-244a-473a-8346-38f3d3cc9c7b",
   "metadata": {},
   "outputs": [
    {
     "data": {
      "text/plain": [
       "furniture     0\n",
       "type          0\n",
       "url           0\n",
       "rate          0\n",
       "delivery      0\n",
       "sale          0\n",
       "price        39\n",
       "dtype: int64"
      ]
     },
     "execution_count": 19,
     "metadata": {},
     "output_type": "execute_result"
    }
   ],
   "source": [
    "df.isnull().sum()\n"
   ]
  },
  {
   "cell_type": "code",
   "execution_count": 20,
   "id": "401774ba-049f-40fc-88ba-3d6cc8c245e8",
   "metadata": {},
   "outputs": [
    {
     "data": {
      "text/html": [
       "<div>\n",
       "<style scoped>\n",
       "    .dataframe tbody tr th:only-of-type {\n",
       "        vertical-align: middle;\n",
       "    }\n",
       "\n",
       "    .dataframe tbody tr th {\n",
       "        vertical-align: top;\n",
       "    }\n",
       "\n",
       "    .dataframe thead th {\n",
       "        text-align: right;\n",
       "    }\n",
       "</style>\n",
       "<table border=\"1\" class=\"dataframe\">\n",
       "  <thead>\n",
       "    <tr style=\"text-align: right;\">\n",
       "      <th></th>\n",
       "      <th>furniture</th>\n",
       "      <th>type</th>\n",
       "      <th>url</th>\n",
       "      <th>rate</th>\n",
       "      <th>delivery</th>\n",
       "      <th>sale</th>\n",
       "      <th>price</th>\n",
       "    </tr>\n",
       "  </thead>\n",
       "  <tbody>\n",
       "    <tr>\n",
       "      <th>0</th>\n",
       "      <td>Bed side table with storage shelf</td>\n",
       "      <td>Home Decor Center</td>\n",
       "      <td>https://www.jumia.com.eg//ar/home-decor-center...</td>\n",
       "      <td>3.3</td>\n",
       "      <td>172.14</td>\n",
       "      <td>72%</td>\n",
       "      <td>2500.0</td>\n",
       "    </tr>\n",
       "    <tr>\n",
       "      <th>1</th>\n",
       "      <td>Bed side table with storage shelf</td>\n",
       "      <td>Modern Home</td>\n",
       "      <td>https://www.jumia.com.eg//ar/modern-home-bedsi...</td>\n",
       "      <td>0.0</td>\n",
       "      <td>172.14</td>\n",
       "      <td>54%</td>\n",
       "      <td>1200.0</td>\n",
       "    </tr>\n",
       "    <tr>\n",
       "      <th>2</th>\n",
       "      <td>Modern Zigzag TV Table</td>\n",
       "      <td>Modern Home</td>\n",
       "      <td>https://www.jumia.com.eg//ar/generic-zigzag-tv...</td>\n",
       "      <td>0.0</td>\n",
       "      <td>172.14</td>\n",
       "      <td>18%</td>\n",
       "      <td>1099.0</td>\n",
       "    </tr>\n",
       "    <tr>\n",
       "      <th>3</th>\n",
       "      <td>Bedside table with storage shelf</td>\n",
       "      <td>Modern Home</td>\n",
       "      <td>https://www.jumia.com.eg//ar/modern-home-bedsi...</td>\n",
       "      <td>0.0</td>\n",
       "      <td>172.14</td>\n",
       "      <td>58%</td>\n",
       "      <td>1200.0</td>\n",
       "    </tr>\n",
       "    <tr>\n",
       "      <th>4</th>\n",
       "      <td>Wall Mounted TV Unit with Cabinet TV Stand Uni...</td>\n",
       "      <td>Modern Home</td>\n",
       "      <td>https://www.jumia.com.eg//ar/modern-home-wall-...</td>\n",
       "      <td>5.0</td>\n",
       "      <td>52.44</td>\n",
       "      <td>54%</td>\n",
       "      <td>1400.0</td>\n",
       "    </tr>\n",
       "    <tr>\n",
       "      <th>...</th>\n",
       "      <td>...</td>\n",
       "      <td>...</td>\n",
       "      <td>...</td>\n",
       "      <td>...</td>\n",
       "      <td>...</td>\n",
       "      <td>...</td>\n",
       "      <td>...</td>\n",
       "    </tr>\n",
       "    <tr>\n",
       "      <th>1995</th>\n",
       "      <td>Casio Standard Analogue Ladys Standard Analog ...</td>\n",
       "      <td>Casio Standard Analogue Ladys Standard Analog ...</td>\n",
       "      <td>https://www.jumia.com.eg//ar/casio-standard-an...</td>\n",
       "      <td>0.0</td>\n",
       "      <td>656.28</td>\n",
       "      <td>0%</td>\n",
       "      <td>1632.0</td>\n",
       "    </tr>\n",
       "    <tr>\n",
       "      <th>1996</th>\n",
       "      <td>Coffee table + side table</td>\n",
       "      <td>Hub Furniture</td>\n",
       "      <td>https://www.jumia.com.eg//ar/hub-furniture-ae-...</td>\n",
       "      <td>0.0</td>\n",
       "      <td>172.14</td>\n",
       "      <td>0%</td>\n",
       "      <td>11450.0</td>\n",
       "    </tr>\n",
       "    <tr>\n",
       "      <th>1997</th>\n",
       "      <td>Ben Togo Baby Bed</td>\n",
       "      <td>Bean GO</td>\n",
       "      <td>https://www.jumia.com.eg//ar/bean2go-newborn-b...</td>\n",
       "      <td>0.0</td>\n",
       "      <td>52.44</td>\n",
       "      <td>0%</td>\n",
       "      <td>550.0</td>\n",
       "    </tr>\n",
       "    <tr>\n",
       "      <th>1998</th>\n",
       "      <td>Cloud memory foam mattress (medical)</td>\n",
       "      <td>CIREM</td>\n",
       "      <td>https://www.jumia.com.eg//ar/cirem-cloud-memor...</td>\n",
       "      <td>0.0</td>\n",
       "      <td>172.14</td>\n",
       "      <td>9%</td>\n",
       "      <td>8495.0</td>\n",
       "    </tr>\n",
       "    <tr>\n",
       "      <th>1999</th>\n",
       "      <td>Comfy memory foam mattress</td>\n",
       "      <td>CIREM</td>\n",
       "      <td>https://www.jumia.com.eg//ar/cirem-comfy-medic...</td>\n",
       "      <td>0.0</td>\n",
       "      <td>172.14</td>\n",
       "      <td>10%</td>\n",
       "      <td>10775.0</td>\n",
       "    </tr>\n",
       "  </tbody>\n",
       "</table>\n",
       "<p>1925 rows × 7 columns</p>\n",
       "</div>"
      ],
      "text/plain": [
       "                                              furniture  \\\n",
       "0                    Bed side table with storage shelf    \n",
       "1                    Bed side table with storage shelf    \n",
       "2                               Modern Zigzag TV Table    \n",
       "3                     Bedside table with storage shelf    \n",
       "4     Wall Mounted TV Unit with Cabinet TV Stand Uni...   \n",
       "...                                                 ...   \n",
       "1995  Casio Standard Analogue Ladys Standard Analog ...   \n",
       "1996                          Coffee table + side table   \n",
       "1997                                 Ben Togo Baby Bed    \n",
       "1998               Cloud memory foam mattress (medical)   \n",
       "1999                         Comfy memory foam mattress   \n",
       "\n",
       "                                                   type  \\\n",
       "0                                     Home Decor Center   \n",
       "1                                           Modern Home   \n",
       "2                                           Modern Home   \n",
       "3                                           Modern Home   \n",
       "4                                           Modern Home   \n",
       "...                                                 ...   \n",
       "1995  Casio Standard Analogue Ladys Standard Analog ...   \n",
       "1996                                      Hub Furniture   \n",
       "1997                                            Bean GO   \n",
       "1998                                              CIREM   \n",
       "1999                                              CIREM   \n",
       "\n",
       "                                                    url  rate  delivery sale  \\\n",
       "0     https://www.jumia.com.eg//ar/home-decor-center...   3.3    172.14  72%   \n",
       "1     https://www.jumia.com.eg//ar/modern-home-bedsi...   0.0    172.14  54%   \n",
       "2     https://www.jumia.com.eg//ar/generic-zigzag-tv...   0.0    172.14  18%   \n",
       "3     https://www.jumia.com.eg//ar/modern-home-bedsi...   0.0    172.14  58%   \n",
       "4     https://www.jumia.com.eg//ar/modern-home-wall-...   5.0     52.44  54%   \n",
       "...                                                 ...   ...       ...  ...   \n",
       "1995  https://www.jumia.com.eg//ar/casio-standard-an...   0.0    656.28   0%   \n",
       "1996  https://www.jumia.com.eg//ar/hub-furniture-ae-...   0.0    172.14   0%   \n",
       "1997  https://www.jumia.com.eg//ar/bean2go-newborn-b...   0.0     52.44   0%   \n",
       "1998  https://www.jumia.com.eg//ar/cirem-cloud-memor...   0.0    172.14   9%   \n",
       "1999  https://www.jumia.com.eg//ar/cirem-comfy-medic...   0.0    172.14  10%   \n",
       "\n",
       "        price  \n",
       "0      2500.0  \n",
       "1      1200.0  \n",
       "2      1099.0  \n",
       "3      1200.0  \n",
       "4      1400.0  \n",
       "...       ...  \n",
       "1995   1632.0  \n",
       "1996  11450.0  \n",
       "1997    550.0  \n",
       "1998   8495.0  \n",
       "1999  10775.0  \n",
       "\n",
       "[1925 rows x 7 columns]"
      ]
     },
     "execution_count": 20,
     "metadata": {},
     "output_type": "execute_result"
    }
   ],
   "source": [
    "df"
   ]
  },
  {
   "cell_type": "code",
   "execution_count": 21,
   "id": "a558afd0-1912-4b49-b8f4-79fd2727967c",
   "metadata": {},
   "outputs": [
    {
     "data": {
      "text/plain": [
       "furniture\n",
       "Corner bed                                          166094.0\n",
       "Modern capton bed, cm wood                          135352.0\n",
       "Sofa bed                                             96994.0\n",
       "Mora mattress, ten years guarantee, size is high     81442.0\n",
       "Modern sofa table                                    77200.0\n",
       "Name: price, dtype: float64"
      ]
     },
     "execution_count": 21,
     "metadata": {},
     "output_type": "execute_result"
    }
   ],
   "source": [
    "df.groupby(['furniture'])['price'].sum().sort_values(ascending=False)[:5]"
   ]
  },
  {
   "cell_type": "code",
   "execution_count": null,
   "id": "83cfa136-095c-44a6-a800-6d310e3a07e1",
   "metadata": {},
   "outputs": [],
   "source": [
    "condition=df['furniture']=='bed side table with storage shelf'\t\n",
    "df[condition]"
   ]
  },
  {
   "cell_type": "code",
   "execution_count": 30,
   "id": "08284109-8523-4fb3-91ef-9d57ce661753",
   "metadata": {},
   "outputs": [
    {
     "data": {
      "text/plain": [
       "type\n",
       "Modern Home                                                           670\n",
       "Rango                                                                  81\n",
       "Marfy Touch                                                            57\n",
       "General                                                                51\n",
       "Artistico                                                              44\n",
       "                                                                     ... \n",
       "Elastic Electric Gaming Chair Covers Household Office                   1\n",
       "Modern Home R        PCS                                                1\n",
       "Epoch Sylvanian Families Ka     Shining room light                      1\n",
       "Sprayer model coloring  art drawing                                     1\n",
       "Casio Standard Analogue Ladys Standard Analog Women s LTP V   G  A      1\n",
       "Name: count, Length: 584, dtype: int64"
      ]
     },
     "execution_count": 30,
     "metadata": {},
     "output_type": "execute_result"
    }
   ],
   "source": [
    "df['type'].value_counts()"
   ]
  },
  {
   "cell_type": "code",
   "execution_count": 31,
   "id": "626cdcfc-3387-479b-9158-0693b943dcbf",
   "metadata": {},
   "outputs": [
    {
     "data": {
      "text/html": [
       "<div>\n",
       "<style scoped>\n",
       "    .dataframe tbody tr th:only-of-type {\n",
       "        vertical-align: middle;\n",
       "    }\n",
       "\n",
       "    .dataframe tbody tr th {\n",
       "        vertical-align: top;\n",
       "    }\n",
       "\n",
       "    .dataframe thead th {\n",
       "        text-align: right;\n",
       "    }\n",
       "</style>\n",
       "<table border=\"1\" class=\"dataframe\">\n",
       "  <thead>\n",
       "    <tr style=\"text-align: right;\">\n",
       "      <th></th>\n",
       "      <th>furniture</th>\n",
       "      <th>price</th>\n",
       "    </tr>\n",
       "  </thead>\n",
       "  <tbody>\n",
       "    <tr>\n",
       "      <th>0</th>\n",
       "      <td>Bed side table with storage shelf</td>\n",
       "      <td>2500.0</td>\n",
       "    </tr>\n",
       "    <tr>\n",
       "      <th>1</th>\n",
       "      <td>Bed side table with storage shelf</td>\n",
       "      <td>1200.0</td>\n",
       "    </tr>\n",
       "    <tr>\n",
       "      <th>2</th>\n",
       "      <td>Modern Zigzag TV Table</td>\n",
       "      <td>1099.0</td>\n",
       "    </tr>\n",
       "    <tr>\n",
       "      <th>3</th>\n",
       "      <td>Bedside table with storage shelf</td>\n",
       "      <td>1200.0</td>\n",
       "    </tr>\n",
       "    <tr>\n",
       "      <th>4</th>\n",
       "      <td>Wall Mounted TV Unit with Cabinet TV Stand Uni...</td>\n",
       "      <td>1400.0</td>\n",
       "    </tr>\n",
       "    <tr>\n",
       "      <th>...</th>\n",
       "      <td>...</td>\n",
       "      <td>...</td>\n",
       "    </tr>\n",
       "    <tr>\n",
       "      <th>1995</th>\n",
       "      <td>Casio Standard Analogue Ladys Standard Analog ...</td>\n",
       "      <td>1632.0</td>\n",
       "    </tr>\n",
       "    <tr>\n",
       "      <th>1996</th>\n",
       "      <td>Coffee table + side table</td>\n",
       "      <td>11450.0</td>\n",
       "    </tr>\n",
       "    <tr>\n",
       "      <th>1997</th>\n",
       "      <td>Ben Togo Baby Bed</td>\n",
       "      <td>550.0</td>\n",
       "    </tr>\n",
       "    <tr>\n",
       "      <th>1998</th>\n",
       "      <td>Cloud memory foam mattress (medical)</td>\n",
       "      <td>8495.0</td>\n",
       "    </tr>\n",
       "    <tr>\n",
       "      <th>1999</th>\n",
       "      <td>Comfy memory foam mattress</td>\n",
       "      <td>10775.0</td>\n",
       "    </tr>\n",
       "  </tbody>\n",
       "</table>\n",
       "<p>1961 rows × 2 columns</p>\n",
       "</div>"
      ],
      "text/plain": [
       "                                              furniture    price\n",
       "0                    Bed side table with storage shelf    2500.0\n",
       "1                    Bed side table with storage shelf    1200.0\n",
       "2                               Modern Zigzag TV Table    1099.0\n",
       "3                     Bedside table with storage shelf    1200.0\n",
       "4     Wall Mounted TV Unit with Cabinet TV Stand Uni...   1400.0\n",
       "...                                                 ...      ...\n",
       "1995  Casio Standard Analogue Ladys Standard Analog ...   1632.0\n",
       "1996                          Coffee table + side table  11450.0\n",
       "1997                                 Ben Togo Baby Bed     550.0\n",
       "1998               Cloud memory foam mattress (medical)   8495.0\n",
       "1999                         Comfy memory foam mattress  10775.0\n",
       "\n",
       "[1961 rows x 2 columns]"
      ]
     },
     "execution_count": 31,
     "metadata": {},
     "output_type": "execute_result"
    }
   ],
   "source": [
    "df[['furniture','price']]"
   ]
  },
  {
   "cell_type": "code",
   "execution_count": 32,
   "id": "71bcb3a4-2cfd-45e0-9c76-61703753599e",
   "metadata": {},
   "outputs": [],
   "source": [
    "#  What is the most frequently sold furniture item"
   ]
  },
  {
   "cell_type": "code",
   "execution_count": 33,
   "id": "8ce90f30-c7d1-42f3-b639-31ec20152106",
   "metadata": {},
   "outputs": [
    {
     "data": {
      "text/plain": [
       "furniture\n",
       "Modern capton bed, cm wood    29\n",
       "Name: count, dtype: int64"
      ]
     },
     "execution_count": 33,
     "metadata": {},
     "output_type": "execute_result"
    }
   ],
   "source": [
    "df['furniture'].value_counts().head(1)\n",
    "\n"
   ]
  },
  {
   "cell_type": "code",
   "execution_count": 34,
   "id": "1acfeee0-c9b2-44eb-b079-93bb6cd66e2a",
   "metadata": {},
   "outputs": [
    {
     "data": {
      "image/png": "[encoded data removed]",
      "text/plain": [
       "<Figure size 640x480 with 1 Axes>"
      ]
     },
     "metadata": {},
     "output_type": "display_data"
    }
   ],
   "source": [
    "df['furniture'].value_counts().head(5).plot(kind='bar', title='Top 5 Furniture Items')\n",
    "plt.ylabel(\"Count\")\n",
    "plt.xlabel(\"Furniture\")\n",
    "plt.show()\n"
   ]
  },
  {
   "cell_type": "code",
   "execution_count": 35,
   "id": "97553f84-50af-4661-a0f8-6ce445da4ca7",
   "metadata": {},
   "outputs": [],
   "source": [
    "# What is the average price of all products?\n"
   ]
  },
  {
   "cell_type": "code",
   "execution_count": 36,
   "id": "c22f52e0-45bf-4b69-9534-39a67bac5a01",
   "metadata": {},
   "outputs": [
    {
     "data": {
      "text/plain": [
       "2910.418194798572"
      ]
     },
     "execution_count": 36,
     "metadata": {},
     "output_type": "execute_result"
    }
   ],
   "source": [
    "df['price'].mean()\n",
    "\n"
   ]
  },
  {
   "cell_type": "code",
   "execution_count": 37,
   "id": "a8e147b8-0c2f-4b15-9878-01e8d3f75468",
   "metadata": {},
   "outputs": [
    {
     "data": {
      "image/png": "[encoded data removed]",
      "text/plain": [
       "<Figure size 640x480 with 1 Axes>"
      ]
     },
     "metadata": {},
     "output_type": "display_data"
    }
   ],
   "source": [
    "sns.boxplot(data=df, x='price')\n",
    "plt.title('Price Distribution')\n",
    "plt.show()"
   ]
  },
  {
   "cell_type": "code",
   "execution_count": 38,
   "id": "92f1be49-d09e-4195-af3c-d8d1d276b49b",
   "metadata": {},
   "outputs": [],
   "source": [
    "#What is the highest product rating?\n",
    "\n"
   ]
  },
  {
   "cell_type": "code",
   "execution_count": 39,
   "id": "888dc499-1dda-4e7f-adcf-77071c648a74",
   "metadata": {},
   "outputs": [
    {
     "data": {
      "text/html": [
       "<div>\n",
       "<style scoped>\n",
       "    .dataframe tbody tr th:only-of-type {\n",
       "        vertical-align: middle;\n",
       "    }\n",
       "\n",
       "    .dataframe tbody tr th {\n",
       "        vertical-align: top;\n",
       "    }\n",
       "\n",
       "    .dataframe thead th {\n",
       "        text-align: right;\n",
       "    }\n",
       "</style>\n",
       "<table border=\"1\" class=\"dataframe\">\n",
       "  <thead>\n",
       "    <tr style=\"text-align: right;\">\n",
       "      <th></th>\n",
       "      <th>furniture</th>\n",
       "      <th>rate</th>\n",
       "    </tr>\n",
       "  </thead>\n",
       "  <tbody>\n",
       "    <tr>\n",
       "      <th>4</th>\n",
       "      <td>Wall Mounted TV Unit with Cabinet TV Stand Uni...</td>\n",
       "      <td>5.0</td>\n",
       "    </tr>\n",
       "    <tr>\n",
       "      <th>44</th>\n",
       "      <td>Wall Mounted TV Unit with Cabinet TV Stand Uni...</td>\n",
       "      <td>5.0</td>\n",
       "    </tr>\n",
       "    <tr>\n",
       "      <th>89</th>\n",
       "      <td>Modern desk with side shelves</td>\n",
       "      <td>5.0</td>\n",
       "    </tr>\n",
       "    <tr>\n",
       "      <th>91</th>\n",
       "      <td>Wall Mounted TV Unit with Cabinet TV Stand Uni...</td>\n",
       "      <td>5.0</td>\n",
       "    </tr>\n",
       "    <tr>\n",
       "      <th>94</th>\n",
       "      <td>Contemporary tiered book storage unit</td>\n",
       "      <td>5.0</td>\n",
       "    </tr>\n",
       "    <tr>\n",
       "      <th>...</th>\n",
       "      <td>...</td>\n",
       "      <td>...</td>\n",
       "    </tr>\n",
       "    <tr>\n",
       "      <th>1848</th>\n",
       "      <td>Metal desk</td>\n",
       "      <td>5.0</td>\n",
       "    </tr>\n",
       "    <tr>\n",
       "      <th>1878</th>\n",
       "      <td>TV desk cm brown in white</td>\n",
       "      <td>5.0</td>\n",
       "    </tr>\n",
       "    <tr>\n",
       "      <th>1918</th>\n",
       "      <td>Metal desk</td>\n",
       "      <td>5.0</td>\n",
       "    </tr>\n",
       "    <tr>\n",
       "      <th>1921</th>\n",
       "      <td>Dot bean bag</td>\n",
       "      <td>5.0</td>\n",
       "    </tr>\n",
       "    <tr>\n",
       "      <th>1936</th>\n",
       "      <td>Willow Bean Bag</td>\n",
       "      <td>5.0</td>\n",
       "    </tr>\n",
       "  </tbody>\n",
       "</table>\n",
       "<p>102 rows × 2 columns</p>\n",
       "</div>"
      ],
      "text/plain": [
       "                                              furniture  rate\n",
       "4     Wall Mounted TV Unit with Cabinet TV Stand Uni...   5.0\n",
       "44    Wall Mounted TV Unit with Cabinet TV Stand Uni...   5.0\n",
       "89                       Modern desk with side shelves    5.0\n",
       "91    Wall Mounted TV Unit with Cabinet TV Stand Uni...   5.0\n",
       "94                Contemporary tiered book storage unit   5.0\n",
       "...                                                 ...   ...\n",
       "1848                                        Metal desk    5.0\n",
       "1878                          TV desk cm brown in white   5.0\n",
       "1918                                        Metal desk    5.0\n",
       "1921                                       Dot bean bag   5.0\n",
       "1936                                    Willow Bean Bag   5.0\n",
       "\n",
       "[102 rows x 2 columns]"
      ]
     },
     "execution_count": 39,
     "metadata": {},
     "output_type": "execute_result"
    }
   ],
   "source": [
    "df[df['rate'] == df['rate'].max()][['furniture', 'rate']]\n"
   ]
  },
  {
   "cell_type": "code",
   "execution_count": 40,
   "id": "5ecfdfd0-8c0c-42d3-a870-cb108b783c1e",
   "metadata": {},
   "outputs": [
    {
     "data": {
      "image/png": "[encoded data removed]",
      "text/plain": [
       "<Figure size 1000x800 with 1 Axes>"
      ]
     },
     "metadata": {},
     "output_type": "display_data"
    }
   ],
   "source": [
    "df['furniture'].value_counts().head(20).plot(kind='barh', figsize=(10, 8))\n",
    "plt.title('Top 20 Furniture Items')\n",
    "plt.xlabel('Count')\n",
    "plt.ylabel('Furniture')\n",
    "plt.tight_layout()\n",
    "plt.show()\n"
   ]
  },
  {
   "cell_type": "code",
   "execution_count": 41,
   "id": "8cdd0ec6-c94b-4f52-b94e-93f58ae8f3bf",
   "metadata": {},
   "outputs": [],
   "source": [
    "# Is there a relationship between price and rating?\n"
   ]
  },
  {
   "cell_type": "code",
   "execution_count": 42,
   "id": "5c049c58-a82a-4ae2-ae5d-9a140746f988",
   "metadata": {},
   "outputs": [
    {
     "name": "stdout",
     "output_type": "stream",
     "text": [
      "The correlation between price and rating is: -0.02\n",
      "→ There is a weak negative relationship.\n"
     ]
    }
   ],
   "source": [
    "correlation = df[['price', 'rate']].corr().loc['price', 'rate']\n",
    "print(f\"The correlation between price and rating is: {correlation:.2f}\")\n",
    "\n",
    "if correlation > 0.7:\n",
    "    print(\"→ There is a strong positive relationship.\")\n",
    "elif correlation > 0.3:\n",
    "    print(\"→ There is a moderate positive relationship.\")\n",
    "elif correlation > 0.0:\n",
    "    print(\"→ There is a weak positive relationship.\")\n",
    "elif correlation == 0:\n",
    "    print(\"→ There is no relationship.\")\n",
    "elif correlation > -0.3:\n",
    "    print(\"→ There is a weak negative relationship.\")\n",
    "elif correlation > -0.7:\n",
    "    print(\"→ There is a moderate negative relationship.\")\n",
    "else:\n",
    "    print(\"→ There is a strong negative relationship.\")\n"
   ]
  },
  {
   "cell_type": "code",
   "execution_count": 43,
   "id": "d8ac3116-dc4d-4576-b641-87520263303f",
   "metadata": {},
   "outputs": [
    {
     "name": "stdout",
     "output_type": "stream",
     "text": [
      "count     1961.000000\n",
      "mean      2910.418195\n",
      "std       4002.917206\n",
      "min         13.400000\n",
      "25%        740.000000\n",
      "50%       1900.000000\n",
      "75%       4000.000000\n",
      "max      55000.000000\n",
      "Name: price, dtype: float64\n"
     ]
    }
   ],
   "source": [
    "\n",
    "print(df['price'].describe())\n"
   ]
  },
  {
   "cell_type": "code",
   "execution_count": 44,
   "id": "96599200-2adc-459d-970d-1c995fdc995b",
   "metadata": {},
   "outputs": [
    {
     "data": {
      "image/png": "[encoded data removed]",
      "text/plain": [
       "<Figure size 1000x600 with 1 Axes>"
      ]
     },
     "metadata": {},
     "output_type": "display_data"
    }
   ],
   "source": [
    "\n",
    "\n",
    "\n",
    "df['price'] = pd.to_numeric(df['price'], errors='coerce')\n",
    "\n",
    "\n",
    "\n",
    "\n",
    "df = pd.read_csv('Furniture Price Prediction.csv')  \n",
    "\n",
    "\n",
    "df['price'] = pd.to_numeric(df['price'], errors='coerce')\n",
    "\n",
    "\n",
    "df = df.dropna(subset=['price'])\n",
    "\n",
    "\n",
    "plt.figure(figsize=(10, 6))\n",
    "plt.hist(df['price'], bins=30, color='skyblue', edgecolor='black')\n",
    "plt.title('Price Distribution Across Products', fontsize=14)\n",
    "plt.xlabel('Price')\n",
    "plt.ylabel('Number of Products')\n",
    "plt.grid(axis='y', linestyle='--', alpha=0.7)\n",
    "plt.tight_layout()\n",
    "plt.show()\n",
    "\n"
   ]
  },
  {
   "cell_type": "code",
   "execution_count": null,
   "id": "4dd92987-cffd-4d9a-884c-27e8bf4d502f",
   "metadata": {},
   "outputs": [],
   "source": []
  },
  {
   "cell_type": "code",
   "execution_count": null,
   "id": "77be40f4-164f-4e1b-8a41-6a95ea37c62f",
   "metadata": {},
   "outputs": [],
   "source": []
  }
 ],
 "metadata": {
  "kernelspec": {
   "display_name": "Python [conda env:base] *",
   "language": "python",
   "name": "conda-base-py"
  },
  "language_info": {
   "codemirror_mode": {
    "name": "ipython",
    "version": 3
   },
   "file_extension": ".py",
   "mimetype": "text/x-python",
   "name": "python",
   "nbconvert_exporter": "python",
   "pygments_lexer": "ipython3",
   "version": "3.12.7"
  }
 },
 "nbformat": 4,
 "nbformat_minor": 5
}
